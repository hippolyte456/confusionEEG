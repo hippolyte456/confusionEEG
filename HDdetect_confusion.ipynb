{
 "cells": [
  {
   "attachments": {},
   "cell_type": "markdown",
   "metadata": {},
   "source": [
    "# Prediction de la confusion d'un individu grâce à des données EEG\n",
    "\n",
    "On s'intéresse ici à tester différentes approches pour classifier un signal EEG.\n",
    "Si l'on regarde les Notebook présents sur Kaggle, il essaie pour la plupart de prédire la confusion (yes/no) en ajoutant les données demographic sur les individus qui regardent la vidéo.\n",
    "En faisant ça ils apprennent des classifieurs qui ne se servent pas ou pas du signal EEG.\n",
    "Dans ce notebook nous allons de tenter de classer la confusion par le seul traitement du signal EEG.\n",
    "Rq : Les données n'étant pas nombreuses, il est difficile d'aller étudier les facteurs confondants (individu, vidéo) conjointements. Quelle serait la bonne méthode ? "
   ]
  },
  {
   "cell_type": "code",
   "execution_count": 3,
   "metadata": {},
   "outputs": [],
   "source": [
    "import numpy as np \n",
    "import pandas as pd\n",
    "import random as rd\n",
    "\n",
    "import matplotlib.pyplot as plt\n",
    "import seaborn as sns\n",
    "\n",
    "from sklearn.preprocessing import StandardScaler  \n",
    "from sklearn.model_selection import train_test_split\n",
    "from sklearn.metrics import confusion_matrix,classification_report \n",
    "from sklearn.svm import LinearSVC\n",
    "from sklearn import metrics\n",
    "\n",
    "\n",
    "import torch\n",
    "\n",
    "import warnings\n",
    "warnings.filterwarnings('ignore')\n"
   ]
  },
  {
   "attachments": {},
   "cell_type": "markdown",
   "metadata": {},
   "source": [
    "## A/ importation des données "
   ]
  },
  {
   "cell_type": "code",
   "execution_count": 4,
   "metadata": {},
   "outputs": [
    {
     "data": {
      "text/html": [
       "<div>\n",
       "<style scoped>\n",
       "    .dataframe tbody tr th:only-of-type {\n",
       "        vertical-align: middle;\n",
       "    }\n",
       "\n",
       "    .dataframe tbody tr th {\n",
       "        vertical-align: top;\n",
       "    }\n",
       "\n",
       "    .dataframe thead th {\n",
       "        text-align: right;\n",
       "    }\n",
       "</style>\n",
       "<table border=\"1\" class=\"dataframe\">\n",
       "  <thead>\n",
       "    <tr style=\"text-align: right;\">\n",
       "      <th></th>\n",
       "      <th>SubjectID</th>\n",
       "      <th>VideoID</th>\n",
       "      <th>Attention</th>\n",
       "      <th>Mediation</th>\n",
       "      <th>Raw</th>\n",
       "      <th>Delta</th>\n",
       "      <th>Theta</th>\n",
       "      <th>Alpha1</th>\n",
       "      <th>Alpha2</th>\n",
       "      <th>Beta1</th>\n",
       "      <th>Beta2</th>\n",
       "      <th>Gamma1</th>\n",
       "      <th>Gamma2</th>\n",
       "      <th>predefinedlabel</th>\n",
       "      <th>user-definedlabeln</th>\n",
       "    </tr>\n",
       "  </thead>\n",
       "  <tbody>\n",
       "    <tr>\n",
       "      <th>0</th>\n",
       "      <td>0.0</td>\n",
       "      <td>0.0</td>\n",
       "      <td>56.0</td>\n",
       "      <td>43.0</td>\n",
       "      <td>278.0</td>\n",
       "      <td>301963.0</td>\n",
       "      <td>90612.0</td>\n",
       "      <td>33735.0</td>\n",
       "      <td>23991.0</td>\n",
       "      <td>27946.0</td>\n",
       "      <td>45097.0</td>\n",
       "      <td>33228.0</td>\n",
       "      <td>8293.0</td>\n",
       "      <td>0.0</td>\n",
       "      <td>0.0</td>\n",
       "    </tr>\n",
       "    <tr>\n",
       "      <th>1</th>\n",
       "      <td>0.0</td>\n",
       "      <td>0.0</td>\n",
       "      <td>40.0</td>\n",
       "      <td>35.0</td>\n",
       "      <td>-50.0</td>\n",
       "      <td>73787.0</td>\n",
       "      <td>28083.0</td>\n",
       "      <td>1439.0</td>\n",
       "      <td>2240.0</td>\n",
       "      <td>2746.0</td>\n",
       "      <td>3687.0</td>\n",
       "      <td>5293.0</td>\n",
       "      <td>2740.0</td>\n",
       "      <td>0.0</td>\n",
       "      <td>0.0</td>\n",
       "    </tr>\n",
       "    <tr>\n",
       "      <th>2</th>\n",
       "      <td>0.0</td>\n",
       "      <td>0.0</td>\n",
       "      <td>47.0</td>\n",
       "      <td>48.0</td>\n",
       "      <td>101.0</td>\n",
       "      <td>758353.0</td>\n",
       "      <td>383745.0</td>\n",
       "      <td>201999.0</td>\n",
       "      <td>62107.0</td>\n",
       "      <td>36293.0</td>\n",
       "      <td>130536.0</td>\n",
       "      <td>57243.0</td>\n",
       "      <td>25354.0</td>\n",
       "      <td>0.0</td>\n",
       "      <td>0.0</td>\n",
       "    </tr>\n",
       "    <tr>\n",
       "      <th>3</th>\n",
       "      <td>0.0</td>\n",
       "      <td>0.0</td>\n",
       "      <td>47.0</td>\n",
       "      <td>57.0</td>\n",
       "      <td>-5.0</td>\n",
       "      <td>2012240.0</td>\n",
       "      <td>129350.0</td>\n",
       "      <td>61236.0</td>\n",
       "      <td>17084.0</td>\n",
       "      <td>11488.0</td>\n",
       "      <td>62462.0</td>\n",
       "      <td>49960.0</td>\n",
       "      <td>33932.0</td>\n",
       "      <td>0.0</td>\n",
       "      <td>0.0</td>\n",
       "    </tr>\n",
       "    <tr>\n",
       "      <th>4</th>\n",
       "      <td>0.0</td>\n",
       "      <td>0.0</td>\n",
       "      <td>44.0</td>\n",
       "      <td>53.0</td>\n",
       "      <td>-8.0</td>\n",
       "      <td>1005145.0</td>\n",
       "      <td>354328.0</td>\n",
       "      <td>37102.0</td>\n",
       "      <td>88881.0</td>\n",
       "      <td>45307.0</td>\n",
       "      <td>99603.0</td>\n",
       "      <td>44790.0</td>\n",
       "      <td>29749.0</td>\n",
       "      <td>0.0</td>\n",
       "      <td>0.0</td>\n",
       "    </tr>\n",
       "  </tbody>\n",
       "</table>\n",
       "</div>"
      ],
      "text/plain": [
       "   SubjectID  VideoID  Attention  Mediation    Raw      Delta     Theta  \\\n",
       "0        0.0      0.0       56.0       43.0  278.0   301963.0   90612.0   \n",
       "1        0.0      0.0       40.0       35.0  -50.0    73787.0   28083.0   \n",
       "2        0.0      0.0       47.0       48.0  101.0   758353.0  383745.0   \n",
       "3        0.0      0.0       47.0       57.0   -5.0  2012240.0  129350.0   \n",
       "4        0.0      0.0       44.0       53.0   -8.0  1005145.0  354328.0   \n",
       "\n",
       "     Alpha1   Alpha2    Beta1     Beta2   Gamma1   Gamma2  predefinedlabel  \\\n",
       "0   33735.0  23991.0  27946.0   45097.0  33228.0   8293.0              0.0   \n",
       "1    1439.0   2240.0   2746.0    3687.0   5293.0   2740.0              0.0   \n",
       "2  201999.0  62107.0  36293.0  130536.0  57243.0  25354.0              0.0   \n",
       "3   61236.0  17084.0  11488.0   62462.0  49960.0  33932.0              0.0   \n",
       "4   37102.0  88881.0  45307.0   99603.0  44790.0  29749.0              0.0   \n",
       "\n",
       "   user-definedlabeln  \n",
       "0                 0.0  \n",
       "1                 0.0  \n",
       "2                 0.0  \n",
       "3                 0.0  \n",
       "4                 0.0  "
      ]
     },
     "execution_count": 4,
     "metadata": {},
     "output_type": "execute_result"
    }
   ],
   "source": [
    "#starting the project\n",
    "eeg_data = pd.read_csv('archive/EEG_data.csv')\n",
    "info_data=pd.read_csv('archive/demographic_info.csv')\n",
    "eeg_data.head()\n"
   ]
  },
  {
   "cell_type": "code",
   "execution_count": 5,
   "metadata": {},
   "outputs": [],
   "source": [
    "\n",
    "#on veut que chaque couple (sujet,video) soit un objet x\n",
    "#les objets x sur lesquels on va travailler sont des matrices de taille (c,t) avec c le nombre de channels et t le nombre de points d'acquisition\n",
    "\n",
    "#recuperation des valeurs de la colonne SubjectID\n",
    "val_subjects = eeg_data['SubjectID'].unique()\n",
    "val_videos = eeg_data['VideoID'].unique()\n",
    "\n",
    "XY = []\n",
    "for val1 in val_subjects:\n",
    "    for val2 in val_videos:\n",
    "        Xeeg_data = eeg_data[eeg_data['SubjectID']==val1]\n",
    "        Xeeg_data = Xeeg_data[eeg_data['VideoID']==val2]\n",
    "        y = Xeeg_data[['SubjectID','VideoID', 'predefinedlabel', 'user-definedlabeln']].head(1).to_numpy()\n",
    "        y = y[0]\n",
    "        Xeeg_data = Xeeg_data.drop(['SubjectID','VideoID','predefinedlabel', 'user-definedlabeln'],axis=1)\n",
    "        Xeeg_data = Xeeg_data.to_numpy()\n",
    "        xy = Xeeg_data, y\n",
    "        XY.append(xy)\n",
    "        \n",
    "\n"
   ]
  },
  {
   "attachments": {},
   "cell_type": "markdown",
   "metadata": {},
   "source": [
    "## B/ Première visualisation des données.\n",
    "\n",
    "### Pour 1 individu, représenter le signal en fonction du temps "
   ]
  },
  {
   "cell_type": "code",
   "execution_count": 5,
   "metadata": {},
   "outputs": [],
   "source": [
    "X = XY[0][0]\n",
    "mean = X.mean(axis=0)\n",
    "std = X.std(axis=0)\n",
    "X = (X-mean)/std\n"
   ]
  },
  {
   "cell_type": "code",
   "execution_count": 6,
   "metadata": {},
   "outputs": [
    {
     "data": {
      "image/png": "[encoded data removed]",
      "text/plain": [
       "<Figure size 432x288 with 1 Axes>"
      ]
     },
     "metadata": {
      "needs_background": "light"
     },
     "output_type": "display_data"
    },
    {
     "data": {
      "image/png": "[encoded data removed]",
      "text/plain": [
       "<Figure size 432x288 with 11 Axes>"
      ]
     },
     "metadata": {
      "needs_background": "light"
     },
     "output_type": "display_data"
    }
   ],
   "source": [
    "for i in range(X.shape[1]):\n",
    "    x = X[:,i]\n",
    "    plt.plot(x)\n",
    "plt.show() \n",
    "\n",
    "#même chose mais en affichant les courbes côte à côte pour chaque channel\n",
    "for i in range(X.shape[1]):\n",
    "    x = X[:,i]\n",
    "    plt.subplot(4,3,i+1)\n",
    "    plt.plot(x)\n",
    "\n"
   ]
  },
  {
   "cell_type": "code",
   "execution_count": 7,
   "metadata": {},
   "outputs": [
    {
     "data": {
      "image/png": "[encoded data removed]",
      "text/plain": [
       "<Figure size 1440x504 with 4 Axes>"
      ]
     },
     "metadata": {
      "needs_background": "light"
     },
     "output_type": "display_data"
    }
   ],
   "source": [
    "#regarder la distribution des 0 et des 1 par individus et par vidéos \n",
    "Obj_confusion_matrix = np.zeros((10,10))\n",
    "Sub_confusion_matrix = np.zeros((10,10))\n",
    "for x,y in XY:\n",
    "    Row_index = int(y[0])\n",
    "    Col_index = int(y[1])\n",
    "    Obj_confusion_matrix[Row_index][Col_index] = y[2]\n",
    "    Sub_confusion_matrix[Row_index][Col_index] = y[3]\n",
    "\n",
    "fig, ax = plt.subplots(1,2,figsize=(20,7))\n",
    "sns.heatmap(Obj_confusion_matrix,ax=ax[0])\n",
    "sns.heatmap(Sub_confusion_matrix,ax=ax[1])\n",
    "ax[0].set_xlabel('VideoID')\n",
    "ax[0].set_ylabel('SubjectID')\n",
    "ax[1].set_xlabel('VideoID')\n",
    "ax[1].set_ylabel('SubjectID')\n",
    "plt.show()\n",
    "\n"
   ]
  },
  {
   "attachments": {},
   "cell_type": "markdown",
   "metadata": {},
   "source": [
    "... Les labels données a priori sur les vidéos ne sont pas ceux que rapportent les individus. On peut déjà se dire que les données ne vont pas être facile à traiter si les vidéos ne sont pas clairement confusing. "
   ]
  },
  {
   "cell_type": "code",
   "execution_count": 8,
   "metadata": {},
   "outputs": [],
   "source": [
    "# #on regarde les corrélations entre la target et les données (heatmap)\n",
    "\n",
    "# plt.figure(figsize = (15,15))\n",
    "# cor_matrix = XY.corr()\n",
    "# sns.heatmap(cor_matrix,annot=True)"
   ]
  },
  {
   "attachments": {},
   "cell_type": "markdown",
   "metadata": {},
   "source": [
    "## C/ prétraitements / Feature engineering\n",
    "\n",
    "On va tester plusieurs manières différentes de traiter les n channels:\n",
    "* concaténation pour former des matrices de n colonnes \n",
    "* concatenation pour former un seul channel n fois plus long\n",
    "* channel par channel (puis méthode d'ensemble)"
   ]
  },
  {
   "cell_type": "code",
   "execution_count": 8,
   "metadata": {},
   "outputs": [],
   "source": [
    "# for next time : trouver une méthode qui permettent de pas avoir à switcher entre les pack et unpack (ou méthode équivalente d'un module)\n",
    "def unpacking(XY):\n",
    "    X,Y = [],[]\n",
    "    for x,y in XY:\n",
    "        X.append(x)\n",
    "        Y.append(y)\n",
    "    return X,Y\n",
    "\n",
    "def packing(X,Y):\n",
    "    if type(X) != list or type(Y) != list:\n",
    "        raise TypeError('the argument was not a list')\n",
    "    for i in range(len(X)):\n",
    "        XY.append((X[i],Y[i]))\n",
    "    return XY\n"
   ]
  },
  {
   "cell_type": "code",
   "execution_count": 11,
   "metadata": {},
   "outputs": [],
   "source": [
    "#randomisation du jeu de données\n",
    "def shuffle_data(data):\n",
    "    return rd.shuffle(data)\n",
    "\n",
    "\n",
    "#on garde seulement la target qui nous intéresse (en priorité le 'user-definedlabeln' )\n",
    "def select_target(Y):\n",
    "    new_Y = []\n",
    "    for y in Y:\n",
    "        y = y[3]\n",
    "        new_Y.append(y)\n",
    "    return new_Y\n",
    "\n",
    "# Normalisation par channels (mais attention, si on normalise pour chaque enregistrement on perd de l'information, il faut normaliser avant, sur tout le channel enregistré ?)\n",
    "def normalize(X):\n",
    "    mean = X.mean(axis=0)\n",
    "    std = X.std(axis=0)\n",
    "    X = (X-mean)/(std+0.00000001)\n",
    "    return X\n",
    "\n",
    "# diminution du bruit (binning, lissage)\n",
    "def binning(X):\n",
    "    pass\n"
   ]
  },
  {
   "attachments": {},
   "cell_type": "markdown",
   "metadata": {},
   "source": [
    "#### Feature engineering"
   ]
  },
  {
   "attachments": {},
   "cell_type": "markdown",
   "metadata": {},
   "source": [
    "On peut faire cela grâce à la librairie tsfel qui traitent les séries temporelles "
   ]
  },
  {
   "cell_type": "code",
   "execution_count": 12,
   "metadata": {},
   "outputs": [],
   "source": [
    "#Ordre des colonnes (Attention, Mediation, Raw, Delta, Theta, Alpha1, Alpha2, Beta1, Beta2, Gamma1, Gamma2)\n",
    "\n",
    "\n",
    "#selection du channel étudié\n",
    "def select_colonne(X,i):\n",
    "    new_X = []\n",
    "    for x in X:\n",
    "        x = x[:,i]\n",
    "        new_X.append(x)\n",
    "    return new_X\n",
    "\n",
    "\n",
    "# use of tsfel library for feature extraction\n",
    "import tsfel\n",
    "def features_extraction(x):\n",
    "    x = pd.DataFrame(np.hstack(x)) \n",
    "    cfg_file = tsfel.get_features_by_domain('temporal')                                                        # If no argument is passed retrieves all available features\n",
    "    X_train = tsfel.time_series_features_extractor(cfg_file, x, window_size=100, verbose=0)\n",
    "    return X_train\n",
    "\n",
    "\n",
    "#on créé la matrice features qui representent chaque enregistrement grâce à des caractéristiques du signal\n",
    "def create_features(X):\n",
    "    features = []\n",
    "    for x in X:\n",
    "        one_seq_features = features_extraction(x)\n",
    "        one_seq_features = np.array(one_seq_features).flatten()\n",
    "        features.append(one_seq_features)\n",
    "    features = np.array(features)\n",
    "    return features\n"
   ]
  },
  {
   "attachments": {},
   "cell_type": "markdown",
   "metadata": {},
   "source": [
    "Tsfel permet d'extraire un certain nombre de features du signal, on va voir dans notre cas lesquelles sont importantes pour faire de la selection\n",
    "* 1/ approche par corrélations (non-traité ici)\n",
    "* 2/ approche grâce au FeatureSelector de sklearn"
   ]
  },
  {
   "cell_type": "code",
   "execution_count": 13,
   "metadata": {},
   "outputs": [],
   "source": [
    "from sklearn.feature_selection import SequentialFeatureSelector\n",
    "\n",
    "def feature_selection(X,Y,n_features = 6):\n",
    "    estimator = LinearSVC() # on peut changer l'estimateur\n",
    "    selector = SequentialFeatureSelector(estimator, n_features_to_select= n_features, direction='forward')\n",
    "    selector = selector.fit(X, Y)\n",
    "    Xnew = selector.transform(X) # on filtre les données\n",
    "    # print(\"Ancienne dimensions : \",X.shape)\n",
    "    # print(\"Nouvelles dimensions : \",Xnew.shape)\n",
    "    return Xnew\n"
   ]
  },
  {
   "attachments": {},
   "cell_type": "markdown",
   "metadata": {},
   "source": [
    ".... Sans utiliser tsfel et avec du savoir expert, on pourrait imaginer extraire des signatures du signal (features) intéressantes à la main\n",
    "<br/>\n",
    "Approche non testée ici."
   ]
  },
  {
   "cell_type": "code",
   "execution_count": 14,
   "metadata": {},
   "outputs": [],
   "source": [
    "#création de variables d'intérets à partir du signal\n",
    "def features_crea(X):\n",
    "    features = np.empty((0,2))\n",
    "    for signal in X:\n",
    "        mean = signal.mean()\n",
    "        std = signal.std()\n",
    "        features = np.append(features,[[mean,std]],axis=0)\n",
    "        # deriv = np.diff(signal)\n",
    "        # signal = np.append(signal,mean)\n",
    "        # signal = np.append(signal,std)\n",
    "    return features"
   ]
  },
  {
   "attachments": {},
   "cell_type": "markdown",
   "metadata": {},
   "source": [
    "### run pretraitement"
   ]
  },
  {
   "cell_type": "code",
   "execution_count": null,
   "metadata": {},
   "outputs": [],
   "source": [
    "from copy import copy\n",
    "\n",
    "XYbis = copy(XY)\n",
    "rd.seed(2026)\n",
    "rd.shuffle(XYbis)\n",
    "X,Y = unpacking(XYbis)\n",
    "fY = select_target(Y)\n",
    "fX = select_colonne(X,4)\n",
    "features = create_features(fX)\n",
    "features = normalize(features)\n",
    "features = feature_selection(features,fY)\n",
    "X_train, X_test, y_train, y_test = train_test_split(features, fY, test_size=0.2, random_state=2022)\n",
    "\n"
   ]
  },
  {
   "attachments": {},
   "cell_type": "markdown",
   "metadata": {},
   "source": [
    "## D/ Algorithmes supervisés"
   ]
  },
  {
   "attachments": {},
   "cell_type": "markdown",
   "metadata": {},
   "source": [
    "## SVM"
   ]
  },
  {
   "attachments": {},
   "cell_type": "markdown",
   "metadata": {},
   "source": [
    "On regarde rapidement le résultat de notre SVM "
   ]
  },
  {
   "cell_type": "code",
   "execution_count": 15,
   "metadata": {},
   "outputs": [
    {
     "name": "stdout",
     "output_type": "stream",
     "text": [
      "Accuracy: 0.74 (+/- 0.21)\n"
     ]
    }
   ],
   "source": [
    "#1ere estimation de l'accuracy\n",
    "\n",
    "# SVMmod = LinearSVC()\n",
    "# SVMmod.fit(X_train,y_train)\n",
    "# y_hat = SVMmod.predict(X_test)\n",
    "# metrics.accuracy_score(y_test,y_hat)\n",
    "\n",
    "from sklearn.model_selection import cross_val_score\n",
    "SVMmod = LinearSVC()\n",
    "n_fold = 10\n",
    "scores = cross_val_score(SVMmod, X_train, y_train, cv=n_fold, scoring='accuracy') \n",
    "print(\"Accuracy: %0.2f (+/- %0.2f)\" % (scores.mean(), scores.std() * 2))"
   ]
  },
  {
   "attachments": {},
   "cell_type": "markdown",
   "metadata": {},
   "source": [
    "On va utiliser le SVM pour continuer d'améliorer les prétraitements :\n",
    "- choisir le nombre optimal de features à garder  \n",
    "- choisir les channels que l'on veut garder\n",
    "<br/>\n",
    "<br/>\n",
    "On va réaliser pour cela des cross-validation successives. \n",
    "<br/>\n",
    "Rq : on fait d'abord un train_test_split comme ça on pourra ensuite réellement évaluer notre meilleur modèle, mais étant donné le faible nombres de données, on aurait pu ne pas faire de jeu de test. "
   ]
  },
  {
   "cell_type": "code",
   "execution_count": 16,
   "metadata": {},
   "outputs": [],
   "source": [
    "#cross validation pour regarder les performances selon différents traitements\n",
    "from sklearn.model_selection import cross_val_score\n",
    "\n",
    "def run_pretraitement(XY,channels, nb_features=6):    \n",
    "    rd.seed(2026)\n",
    "    XYbis = copy(XY)\n",
    "    rd.shuffle(XYbis)\n",
    "    X,Y = unpacking(XYbis)\n",
    "    fY = select_target(Y)\n",
    "    fX = select_colonne(X,channels)\n",
    "    features = create_features(fX)\n",
    "    features = normalize(features)\n",
    "    features = feature_selection(features,fY, nb_features)\n",
    "    X_train, X_test, y_train, y_test = train_test_split(features, fY, test_size=0.2, random_state=2022)\n",
    "    return X_train, X_test, y_train, y_test"
   ]
  },
  {
   "cell_type": "code",
   "execution_count": null,
   "metadata": {},
   "outputs": [],
   "source": [
    "nb_features = X_train.shape[1]\n",
    "nb_features_scores = []\n",
    "for i in range(1,nb_features-1):\n",
    "    X_train, X_test, y_train, y_test = run_pretraitement(XY,4,i)\n",
    "    SVMmod = LinearSVC()\n",
    "    n_fold = 10\n",
    "    scores = cross_val_score(SVMmod, X_train, y_train, cv=n_fold, scoring='accuracy') # tout est caché dedans :)\n",
    "    nb_features_scores = np.append(nb_features_scores,scores.mean())\n",
    "\n",
    "    "
   ]
  },
  {
   "cell_type": "code",
   "execution_count": 2,
   "metadata": {},
   "outputs": [
    {
     "ename": "NameError",
     "evalue": "name 'nb_features_scores' is not defined",
     "output_type": "error",
     "traceback": [
      "\u001b[0;31m---------------------------------------------------------------------------\u001b[0m",
      "\u001b[0;31mNameError\u001b[0m                                 Traceback (most recent call last)",
      "\u001b[1;32m/home/hippo/Documents/confusionEEG/HDdetect_confusion.ipynb Cellule 31\u001b[0m in \u001b[0;36m<cell line: 1>\u001b[0;34m()\u001b[0m\n\u001b[0;32m----> <a href='vscode-notebook-cell:/home/hippo/Documents/confusionEEG/HDdetect_confusion.ipynb#X42sZmlsZQ%3D%3D?line=0'>1</a>\u001b[0m \u001b[39mprint\u001b[39m(nb_features_scores)\n",
      "\u001b[0;31mNameError\u001b[0m: name 'nb_features_scores' is not defined"
     ]
    }
   ],
   "source": [
    "print(nb_features_scores)"
   ]
  },
  {
   "cell_type": "code",
   "execution_count": null,
   "metadata": {},
   "outputs": [],
   "source": [
    "\n",
    "channels_scores = []\n",
    "for i in range(11):\n",
    "    print(\"Channel : \",i)\n",
    "    X_train, X_test, y_train, y_test = run_pretraitement(XY,i)\n",
    "    SVMmod = LinearSVC()\n",
    "    n_fold = 10\n",
    "    scores = cross_val_score(SVMmod, X_train, y_train, cv=n_fold, scoring='accuracy') \n",
    "    channels_scores = np.append(channels_scores,scores.mean())\n"
   ]
  },
  {
   "cell_type": "code",
   "execution_count": 1,
   "metadata": {},
   "outputs": [
    {
     "ename": "NameError",
     "evalue": "name 'channels_scores' is not defined",
     "output_type": "error",
     "traceback": [
      "\u001b[0;31m---------------------------------------------------------------------------\u001b[0m",
      "\u001b[0;31mNameError\u001b[0m                                 Traceback (most recent call last)",
      "\u001b[1;32m/home/hippo/Documents/confusionEEG/HDdetect_confusion.ipynb Cellule 33\u001b[0m in \u001b[0;36m<cell line: 1>\u001b[0;34m()\u001b[0m\n\u001b[0;32m----> <a href='vscode-notebook-cell:/home/hippo/Documents/confusionEEG/HDdetect_confusion.ipynb#X44sZmlsZQ%3D%3D?line=0'>1</a>\u001b[0m \u001b[39mprint\u001b[39m(channels_scores)\n",
      "\u001b[0;31mNameError\u001b[0m: name 'channels_scores' is not defined"
     ]
    }
   ],
   "source": [
    "print(channels_scores)"
   ]
  },
  {
   "attachments": {},
   "cell_type": "markdown",
   "metadata": {},
   "source": [
    "On détecte ainsi les channels qui ont une valeur prédictive intéressante. \n",
    "On va maintenant tester plusieurs choses pour améliorer la prédictivité du modèle:\n",
    "- combiner les différents channels plutot que d'en regarder un seul \n",
    "- méthodes d'ensemble \n"
   ]
  },
  {
   "attachments": {},
   "cell_type": "markdown",
   "metadata": {},
   "source": [
    "Avant de continuer, quelques remarques:\n",
    " \n",
    "* RQ1 : Sachant que les features intéressantes ont été trouvé pour un channel donné\n",
    "* RQ2 : je suis surement entrain de créer un biais de selection par comparaison multiple.\n",
    "* RQ3 : le processus est sans doute largement améliorable; il aurait fallut s'interesser directement à tous les channels et faire une sorte de gridsearch.\n",
    "* RQ4 : les features du signal qui ont été sélectionnées pourraient sans doute être améliorées.\n",
    "<br/>\n",
    "<br/>\n",
    "\n",
    "Construisons la matrice des features intéressantes sur les channels et features intéressants :\n",
    "* [1,3,4]\n",
    "* [False False False  True False False  True  True False False  True False False False  True False False  True]\n",
    " "
   ]
  },
  {
   "cell_type": "code",
   "execution_count": null,
   "metadata": {},
   "outputs": [],
   "source": [
    "#important de farder les mêmes seed pour ne pas changer le jeu de test \n",
    "''' il aurait fallu diviser en 2 dès le début et ne plus y toucher jusqu'à la fin '''\n",
    "# XYbis = copy(XY)\n",
    "rd.seed(2026)\n",
    "rd.shuffle(XYbis)\n",
    "X,Y = unpacking(XYbis)\n",
    "fY = select_target(Y)\n",
    "fX = select_colonne(X,[1,3,4])\n",
    "\n",
    "\n",
    "#bon là c'est vraiment VRAIMENT moche... il faudrait utiliser tsfel pour synchroniser les signaux \n",
    "'''\n",
    "par contre intéressant de constater que pour pouvoir synchroniser les signaux, il faut penser à mettre des marqueurs quand on recueille les données \n",
    "(par exemple  montrer une image complétement différente dont on sait qu'on va pouvoir le distinguer dans l'enregistrement cérébral)\n",
    "'''\n",
    "for i in range(len(fX)):\n",
    "    fX[i] = fX[i][:100,:]\n",
    "    \n",
    "features = create_features(fX)\n",
    "features = np.array(features)"
   ]
  },
  {
   "attachments": {},
   "cell_type": "markdown",
   "metadata": {},
   "source": [
    "Bon... ça donnera rien de mieux !"
   ]
  },
  {
   "attachments": {},
   "cell_type": "markdown",
   "metadata": {},
   "source": [
    "## CNN \n",
    "\n",
    "Attention, notre jeu de donnée ne comportant pas beaucoup d'exemples en comparaison avec la dimension des objets, il va falloir faire très attention au surapprentissage (Il fa falloir ajouter un terme de régularisation de manière certaine)\n",
    "<br/>\n",
    "<br/>\n",
    "<br/>\n",
    "Testons un 1er CNN prenant en entrée une série temporelles trivariées (input = 100 x 3)\n",
    "<br/>\n",
    "<br/>\n",
    "Il est raisonnable de penser que les interactions entre les channels sont importantes, on va donc faire une convolution 2D sur cet input avec un kernel de 3 x k, mais avec un padding (le kernel le plus à gauche prend les valeur de la colonne de droite pour se compléter et inversement) pour que le kernel s'applique sur chacune des trois channels "
   ]
  },
  {
   "cell_type": "code",
   "execution_count": 15,
   "metadata": {},
   "outputs": [],
   "source": [
    "from tqdm import tqdm\n",
    "import numpy as np\n",
    "import torch\n",
    "from torch import nn\n",
    "from torch.nn import functional as F\n",
    "from torch import optim\n",
    "import torchvision\n",
    "from torchvision import transforms\n",
    "from torch.utils.tensorboard import SummaryWriter\n",
    "import time\n",
    "import os\n",
    "from torch.utils.data import TensorDataset, DataLoader,Dataset\n",
    "import matplotlib.pyplot as plt\n"
   ]
  },
  {
   "cell_type": "code",
   "execution_count": 16,
   "metadata": {},
   "outputs": [],
   "source": [
    "X,Y = unpacking(XY)\n",
    "\n",
    "Y = select_target(Y)\n",
    "X = select_colonne(X,[1,3,4])\n",
    "for i in range(len(X)):\n",
    "    X[i] = X[i][:110,:]\n",
    "    X[i] = normalize(X[i])\n",
    "\n",
    "\n",
    "data = []\n",
    "for i in range(len(X)):\n",
    "    data.append((X[i],Y[i]))\n",
    "\n",
    "\n",
    "data_train, data_test = train_test_split(data,test_size = 0.2, random_state=2022, shuffle=True)"
   ]
  },
  {
   "cell_type": "code",
   "execution_count": 139,
   "metadata": {},
   "outputs": [],
   "source": [
    "\n",
    "# pourquoi c'est important de typer les données ?? \n",
    "class EEGDataset(Dataset):\n",
    "    def __init__(self, dataset, transform=None):\n",
    "        super().__init__()\n",
    "        self.dataset = dataset\n",
    "        self.transform = transform\n",
    "\n",
    "    def __getitem__(self, index):\n",
    "        data = self.dataset[index]\n",
    "        recording = data[0]\n",
    "        confusion = torch.from_numpy(np.array(data[1]))\n",
    "        confusion = torch.tensor(confusion, dtype=torch.long)\n",
    "        if self.transform is not None:\n",
    "            recording = self.transform(recording.astype(np.float32))\n",
    "            #confusion = self.transform(confusion.astype(np.float32))\n",
    "        return recording,confusion\n",
    "\n",
    "    def __len__(self):\n",
    "        return len(self.dataset)\n",
    "\n",
    "transform = transforms.Compose([transforms.ToPILImage(),transforms.ToTensor()])\n"
   ]
  },
  {
   "cell_type": "code",
   "execution_count": 232,
   "metadata": {},
   "outputs": [],
   "source": [
    "Tdata_train = EEGDataset(data_train, transform)\n",
    "Tdata_test = EEGDataset(data_test,transform)\n",
    "\n",
    "# batch_size = square(nb_exemples ?) quand est-ce que ça a du sens ? \n",
    "torch.manual_seed(1)\n",
    "batch_size= 5\n",
    "Tdata_train_loader = DataLoader(Tdata_train, batch_size=batch_size, shuffle=True)\n",
    "Tdata_test_loader = DataLoader(Tdata_test, batch_size=batch_size, shuffle=True)\n"
   ]
  },
  {
   "cell_type": "code",
   "execution_count": 218,
   "metadata": {},
   "outputs": [
    {
     "name": "stdout",
     "output_type": "stream",
     "text": [
      "4\n",
      "torch.Size([20, 1, 110, 3])\n",
      "torch.Size([20, 1, 110, 3])\n",
      "torch.Size([20, 1, 110, 3])\n",
      "torch.Size([20, 1, 110, 3])\n"
     ]
    }
   ],
   "source": [
    "# il faudrait essayer de ne pas utiliser le dataloader aussi pour mieux comprendre...\n",
    "print(len(Tdata_train_loader))\n",
    "for x,y in Tdata_train_loader:                           # boucle sur les batchs  \n",
    "            print(x.shape)"
   ]
  },
  {
   "attachments": {},
   "cell_type": "markdown",
   "metadata": {},
   "source": [
    "### Construction 1er modèle CNN..."
   ]
  },
  {
   "cell_type": "code",
   "execution_count": 233,
   "metadata": {},
   "outputs": [],
   "source": [
    "class MyCNN(nn.Module):\n",
    "    def __init__(self): # à paramétrer ensuite \n",
    "        super().__init__()\n",
    "        #est-ce que circular fais bien ce que je veux ?\n",
    "        self.conv1 = nn.Conv2d(in_channels=1, out_channels=8, kernel_size = (11,3), padding=(5,1) , padding_mode= 'circular') \n",
    "        self.pool1 = nn.MaxPool2d(kernel_size = (10,1))\n",
    "        torch.nn.init.xavier_uniform_(self.conv1.weight)\n",
    "        #1ere convolution\n",
    "        #[(W−K+2P)/S]+1 avec input = W =  110, kernel = K = 11, stride = S = 1, padding = P = 5\n",
    "        #[(110-11+2*5)/1]+1 = 110\n",
    "        #et [(H−K+2P)/S]+1 avec input = W =  3, kernel = K = 3, stride = S = 1, padding = P = 1\n",
    "        #[(3-3+2*1)/1]+1 = 3\n",
    "\n",
    "        #1er maxpooling\n",
    "        #[(W−K+2P)/S]+1 avec input = W =  110, kernel = K = 10, stride = S = 10, padding = P = 0\n",
    "        #[(110-10+2*0)/10]+1 = 11\n",
    "        #et [(H−K+2P)/S]+1 avec input = W =  3, kernel = K = 1, stride = S = 3, padding = P = 0\n",
    "        #[(3-1+2*0)/1]+1 = 3\n",
    "        \n",
    "        self.lin1 = nn.Linear(8*11*3,10)\n",
    "        self.lin2 = nn.Linear(10, 2)\n",
    "        \n",
    "        self.features   = nn.Sequential(self.conv1,nn.ReLU(),self.pool1)\n",
    "        self.classifier = nn.Sequential(self.lin1,nn.ReLU(),self.lin2)\n",
    "        \n",
    "    def forward(self, x):\n",
    "        x = self.features(x)\n",
    "        x = self.classifier(x.view(x.size(0), -1))\n",
    "        return x"
   ]
  },
  {
   "cell_type": "code",
   "execution_count": 234,
   "metadata": {},
   "outputs": [],
   "source": [
    "device = 'cpu'\n",
    "def accuracy(yhat,y):\n",
    "    # y encode les indexes, s'assurer de la bonne taille de tenseur\n",
    "    assert len(y.shape)==1 or y.size(1)==1\n",
    "    return (torch.argmax(yhat,1).view(y.size(0),-1)== y.view(-1,1)).double().mean()\n",
    "    \n",
    "def train(model,epochs,train_loader,test_loader):\n",
    "    optim = torch.optim.Adam(model.parameters(),lr=1e-3)    # choix optimizer\n",
    "    model = model.to(device)\n",
    "    loss = nn.CrossEntropyLoss()                           # choix loss\n",
    "    print(f\"running {model.name}\")\n",
    "    loss_train = []\n",
    "    loss_test = []\n",
    "    acc_train = []\n",
    "    acc_test = []\n",
    "    for epoch in tqdm(range(epochs)):\n",
    "        cumloss, cumacc, count = 0, 0, 0\n",
    "        model.train()\n",
    "        for x,y in train_loader:                            # boucle sur les batchs\n",
    "            optim.zero_grad()\n",
    "            x,y = x.to(device), y.to(device)              \n",
    "            yhat = model(x)\n",
    "            l = loss(yhat,y)\n",
    "            l.backward()\n",
    "            optim.step()\n",
    "            cumloss += l*len(x)                             # attention, il peut y avoir un batch + petit (le dernier)\n",
    "            cumacc += accuracy(yhat,y)*len(x)\n",
    "            count += len(x)\n",
    "        loss_train.append(cumloss/count)\n",
    "        acc_train.append(cumacc/count)\n",
    "        \n",
    "        if epoch % 1 == 0:\n",
    "            model.eval()\n",
    "            with torch.no_grad():\n",
    "                cumloss, cumacc, count = 0, 0, 0\n",
    "                for x,y in test_loader:\n",
    "                    x,y = x.to(device), y.to(device)\n",
    "                    yhat = model(x)\n",
    "                    cumloss += loss(yhat,y)*len(x)\n",
    "                    cumacc += accuracy(yhat,y)*len(x)\n",
    "                    count += len(x)\n",
    "            #print('accuracy/test' + str(cumacc/count))\n",
    "            loss_test.append(cumloss/count)\n",
    "            acc_test.append(cumacc/count)\n",
    "    return loss_train, loss_test, acc_train, acc_test\n",
    "    "
   ]
  },
  {
   "attachments": {},
   "cell_type": "markdown",
   "metadata": {},
   "source": [
    "On essaie d'apprendre le premier modèle\n",
    "<br/>\n",
    "Affichage de la loss / accuracy... ça ne fonctionne pas bien.\n",
    "<br/>\n",
    "Encore une fois il est surement très dur (voir impossible ? erreur de Bayes) d'aller faire mieux vu le nombre de données et la difficulté de la tâche.\n",
    "<br/>\n",
    "On voit d'ailleurs avec la courbe de loss test que le modèle au dela d'overfitter après 15 epochs, n'arrive même pas à apprendre bien dès le début.\n",
    "<br/>\n",
    "<br/>\n",
    "\n",
    "Que faire si l'on veut quand même essayer de faire mieux ?\n",
    "- changer le preprocessing / la création de features de qualités ? \n",
    "- changer l'architecture du modèle ? \n",
    "- changer les paramètres d'apprentissages (learning rate, taille de batches, nb_epochs, optimizer, )\n",
    "- combattre l'overfitting (regularisation / dropout / data augmentation / )"
   ]
  },
  {
   "cell_type": "code",
   "execution_count": 240,
   "metadata": {},
   "outputs": [
    {
     "name": "stdout",
     "output_type": "stream",
     "text": [
      "running DetectConfCNN_V1-Tue Dec 27 23:47:45 2022\n"
     ]
    },
    {
     "name": "stderr",
     "output_type": "stream",
     "text": [
      "100%|██████████| 50/50 [00:01<00:00, 25.92it/s]\n"
     ]
    },
    {
     "data": {
      "image/png": "[encoded data removed]",
      "text/plain": [
       "<Figure size 720x360 with 1 Axes>"
      ]
     },
     "metadata": {
      "needs_background": "light"
     },
     "output_type": "display_data"
    },
    {
     "data": {
      "image/png": "[encoded data removed]",
      "text/plain": [
       "<Figure size 720x360 with 1 Axes>"
      ]
     },
     "metadata": {
      "needs_background": "light"
     },
     "output_type": "display_data"
    }
   ],
   "source": [
    "n_epoch = 50\n",
    "model = MyCNN()\n",
    "model.name = \"DetectConfCNN_V1-\"+time.asctime()\n",
    "loss_train, loss_test, acc_train, acc_test = train(model,n_epoch,Tdata_train_loader,Tdata_test_loader)\n",
    "\n",
    "for i in range(len(loss_train)):\n",
    "    loss_train[i] = np.array(loss_train[i].detach())\n",
    "    loss_test[i] = np.array(loss_test[i].detach())\n",
    "    \n",
    "    acc_train[i] = np.array(acc_train[i].detach())\n",
    "    acc_test[i] = np.array(acc_test[i].detach())\n",
    "\n",
    "    # plot loss with matplotlib\n",
    "plt.figure(figsize=(10,5))\n",
    "plt.title(\"Loss\") \n",
    "plt.plot(loss_train,label=\"train\")\n",
    "plt.plot(loss_test,label=\"test\")\n",
    "plt.xlabel(\"iterations\")\n",
    "plt.ylabel(\"Loss\")\n",
    "plt.legend()\n",
    "plt.show()\n",
    "\n",
    "# plot accuracy with matplotlib\n",
    "plt.figure(figsize=(10,5))\n",
    "plt.title(\"Accuracy\")\n",
    "plt.plot(acc_train,label=\"train\")\n",
    "plt.plot(acc_test,label=\"test\")\n",
    "plt.xlabel(\"iterations\")\n",
    "plt.ylabel(\"Accuracy\")\n",
    "plt.legend()\n",
    "plt.show()"
   ]
  },
  {
   "attachments": {},
   "cell_type": "markdown",
   "metadata": {},
   "source": [
    "## D/ Classification non supervisée:\n",
    "\n",
    "--> définition de métriques différentes entre 2 enregistrements \n",
    "\n",
    "...\n",
    "<br/>\n",
    "...\n",
    "<br/>\n",
    "<br/>\n",
    "Je ne ferai finalement pas ces tests. En effet je pense que les données étant ce qu'elles sont, il sera dur de faire mieux que ce qui a été déjà fait. Je testerai d'autres approches mais sur d'autres jeux de données."
   ]
  }
 ],
 "metadata": {
  "kernelspec": {
   "display_name": "base",
   "language": "python",
   "name": "python3"
  },
  "language_info": {
   "codemirror_mode": {
    "name": "ipython",
    "version": 3
   },
   "file_extension": ".py",
   "mimetype": "text/x-python",
   "name": "python",
   "nbconvert_exporter": "python",
   "pygments_lexer": "ipython3",
   "version": "3.9.12"
  },
  "orig_nbformat": 4,
  "vscode": {
   "interpreter": {
    "hash": "baacd7ded0742aa8408bda3ed6ced71320ba4869ece4e05e453d0cf31ed1376f"
   }
  }
 },
 "nbformat": 4,
 "nbformat_minor": 2
}
